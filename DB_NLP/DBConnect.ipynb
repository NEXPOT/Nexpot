{
 "cells": [
  {
   "cell_type": "code",
   "execution_count": 4,
   "metadata": {},
   "outputs": [],
   "source": [
    "import pymysql as db\n",
    "import import_ipynb\n",
    "import YouTubeAPI as youtube\n",
    "#import place_extract_kakaomap_api as kakao"
   ]
  },
  {
   "cell_type": "code",
   "execution_count": 2,
   "metadata": {},
   "outputs": [],
   "source": [
    "local = 'nexpot.c43ypw0liaa2.ap-northeast-2.rds.amazonaws.com'  # aws rds 접근\n",
    "con = db.connect(\n",
    "    host=local,\n",
    "    user='admin',\n",
    "    db='Nexpot',\n",
    "    password='qwertyuiop123',\n",
    "    charset='utf8mb4'\n",
    ")\n",
    "cur = con.cursor()"
   ]
  },
  {
   "cell_type": "code",
   "execution_count": null,
   "metadata": {},
   "outputs": [],
   "source": [
    "local = 'nexpot.c43ypw0liaa2.ap-northeast-2.rds.amazonaws.com'  # aws rds 접근\n",
    "con = db.connect(\n",
    "    host=local,\n",
    "    user='admin',\n",
    "    db='Nexpot',\n",
    "    password='qwertyuiop123',\n",
    "    charset='utf8mb4'\n",
    ")\n",
    "cur = con.cursor()"
   ]
  },
  {
   "cell_type": "code",
   "execution_count": 3,
   "metadata": {},
   "outputs": [],
   "source": [
    "for i in range(len(youtube.travel_df)):  # youtube 테이블\n",
    "    sql = \"insert into youtube values('\" + \\\n",
    "    youtube.travel_df['VID'][i] +\"','\"+youtube.travel_df['channelname'][i] + \\\n",
    "    youtube.travel_df['Title'][i] + \"','\"+ youtube.travel_df['Thumbnail'][i] + \"','\" + \\\n",
    "    youtube.travel_df['Time'][i] + \"','\" + youtube.travel_df['Views'][i] + \"')\"\n",
    "    try:\n",
    "        cur.execute(sql)\n",
    "        con.commit()\n",
    "    except:\n",
    "        con.rollback()"
   ]
  },
  {
   "cell_type": "code",
   "execution_count": 6,
   "metadata": {},
   "outputs": [
    {
     "ename": "NameError",
     "evalue": "name 'kakao' is not defined",
     "output_type": "error",
     "traceback": [
      "\u001b[1;31m---------------------------------------------------------------------------\u001b[0m",
      "\u001b[1;31mNameError\u001b[0m                                 Traceback (most recent call last)",
      "\u001b[1;32m<ipython-input-6-fc55a628dea9>\u001b[0m in \u001b[0;36m<module>\u001b[1;34m\u001b[0m\n\u001b[1;32m----> 1\u001b[1;33m \u001b[1;32mfor\u001b[0m \u001b[0mi\u001b[0m \u001b[1;32min\u001b[0m \u001b[0mrange\u001b[0m\u001b[1;33m(\u001b[0m\u001b[0mlen\u001b[0m\u001b[1;33m(\u001b[0m\u001b[0mkakao\u001b[0m\u001b[1;33m.\u001b[0m\u001b[0mkakao_df\u001b[0m\u001b[1;33m)\u001b[0m\u001b[1;33m)\u001b[0m\u001b[1;33m:\u001b[0m   \u001b[1;31m# places 테이블\u001b[0m\u001b[1;33m\u001b[0m\u001b[1;33m\u001b[0m\u001b[0m\n\u001b[0m\u001b[0;32m      2\u001b[0m     \u001b[0midx\u001b[0m \u001b[1;33m=\u001b[0m \u001b[1;34mf'{i+1}'\u001b[0m\u001b[1;33m\u001b[0m\u001b[1;33m\u001b[0m\u001b[0m\n\u001b[0;32m      3\u001b[0m     \u001b[0msql\u001b[0m \u001b[1;33m=\u001b[0m \u001b[1;34m\"insert into places values('\"\u001b[0m \u001b[1;33m+\u001b[0m \u001b[0midx\u001b[0m \u001b[1;33m+\u001b[0m \u001b[1;34m\"','\"\u001b[0m \u001b[1;33m+\u001b[0m \u001b[0myoutube\u001b[0m\u001b[1;33m.\u001b[0m\u001b[0mvid\u001b[0m \u001b[1;33m+\u001b[0m \u001b[1;34m\"','\"\u001b[0m \u001b[1;33m+\u001b[0m\u001b[0;31m \u001b[0m\u001b[0;31m\\\u001b[0m\u001b[1;33m\u001b[0m\u001b[1;33m\u001b[0m\u001b[0m\n\u001b[0;32m      4\u001b[0m     \u001b[0mkakao\u001b[0m\u001b[1;33m.\u001b[0m\u001b[0mkakao_df\u001b[0m\u001b[1;33m[\u001b[0m\u001b[1;34m'placeID'\u001b[0m\u001b[1;33m]\u001b[0m\u001b[1;33m[\u001b[0m\u001b[0mi\u001b[0m\u001b[1;33m]\u001b[0m \u001b[1;33m+\u001b[0m \u001b[1;34m\"','\"\u001b[0m \u001b[1;33m+\u001b[0m \u001b[0mkakao\u001b[0m\u001b[1;33m.\u001b[0m\u001b[0mkakao_df\u001b[0m\u001b[1;33m[\u001b[0m\u001b[1;34m'pname'\u001b[0m\u001b[1;33m]\u001b[0m\u001b[1;33m[\u001b[0m\u001b[0mi\u001b[0m\u001b[1;33m]\u001b[0m \u001b[1;33m+\u001b[0m \u001b[1;34m\"','\"\u001b[0m \u001b[1;33m+\u001b[0m\u001b[0;31m \u001b[0m\u001b[0;31m\\\u001b[0m\u001b[1;33m\u001b[0m\u001b[1;33m\u001b[0m\u001b[0m\n\u001b[0;32m      5\u001b[0m     \u001b[0mkakao\u001b[0m\u001b[1;33m.\u001b[0m\u001b[0mkakao_df\u001b[0m\u001b[1;33m[\u001b[0m\u001b[1;34m'paddress'\u001b[0m\u001b[1;33m]\u001b[0m\u001b[1;33m[\u001b[0m\u001b[0mi\u001b[0m\u001b[1;33m]\u001b[0m \u001b[1;33m+\u001b[0m \u001b[1;34m\"','\"\u001b[0m \u001b[1;33m+\u001b[0m \u001b[0mkakao\u001b[0m\u001b[1;33m.\u001b[0m\u001b[0mkakao_df\u001b[0m\u001b[1;33m[\u001b[0m\u001b[1;34m'pX'\u001b[0m\u001b[1;33m]\u001b[0m\u001b[1;33m[\u001b[0m\u001b[0mi\u001b[0m\u001b[1;33m]\u001b[0m\u001b[1;33m+\u001b[0m\u001b[1;34m\"','\"\u001b[0m \u001b[1;33m+\u001b[0m \u001b[0mkakao\u001b[0m\u001b[1;33m.\u001b[0m\u001b[0mkakao_df\u001b[0m\u001b[1;33m[\u001b[0m\u001b[1;34m'pY'\u001b[0m\u001b[1;33m]\u001b[0m\u001b[1;33m[\u001b[0m\u001b[0mi\u001b[0m\u001b[1;33m]\u001b[0m \u001b[1;33m+\u001b[0m \u001b[1;34m\"')\"\u001b[0m\u001b[1;33m\u001b[0m\u001b[1;33m\u001b[0m\u001b[0m\n",
      "\u001b[1;31mNameError\u001b[0m: name 'kakao' is not defined"
     ]
    }
   ],
   "source": [
    "for i in range(len(kakao.kakao_df)):   # places 테이블\n",
    "    idx = f'{i+1}'\n",
    "    sql = \"insert into places values('\" + idx + \"','\" + youtube.vid + \"','\" + \\\n",
    "    kakao.kakao_df['placeID'][i] + \"','\" + kakao.kakao_df['pname'][i] + \"','\" + \\\n",
    "    kakao.kakao_df['paddress'][i] + \"','\" + kakao.kakao_df['pX'][i]+\"','\" + kakao.kakao_df['pY'][i] + \"')\"\n",
    "    try:\n",
    "        cur.execute(sql)\n",
    "        con.commit()\n",
    "    except:\n",
    "        con.rollback()\n",
    "        \n",
    "    con.close()"
   ]
  }
 ],
 "metadata": {
  "kernelspec": {
   "display_name": "Python 3",
   "language": "python",
   "name": "python3"
  },
  "language_info": {
   "codemirror_mode": {
    "name": "ipython",
    "version": 3
   },
   "file_extension": ".py",
   "mimetype": "text/x-python",
   "name": "python",
   "nbconvert_exporter": "python",
   "pygments_lexer": "ipython3",
   "version": "3.8.5"
  }
 },
 "nbformat": 4,
 "nbformat_minor": 4
}
