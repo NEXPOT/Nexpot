{
 "cells": [
  {
   "cell_type": "code",
   "execution_count": 1,
   "metadata": {},
   "outputs": [],
   "source": [
    "from apiclient.discovery import build\n",
    "from apiclient.errors import HttpError\n",
    "from oauth2client.tools import argparser\n",
    "import urllib.request \n",
    "from urllib.parse import quote, unquote\n",
    "import json \n",
    "import pandas as pd \n",
    "from pandas.io.json import json_normalize \n",
    "import pymysql as db\n",
    "import re\n",
    "import requests\n",
    "import time"
   ]
  },
  {
   "cell_type": "code",
   "execution_count": 3,
   "metadata": {},
   "outputs": [],
   "source": [
    "#servicekey = 'uwANzKRxZtNiDrBaW7T7cN%2FDykCM7m6%2BNmGtAhQ88yszsHuqb9%2BZeME%2FaKo3LP6%2Bpmu%2BIjVNPbF5WY9yv8QCow%3D%3D'\n",
    "api_key_decode = 'uwANzKRxZtNiDrBaW7T7cN%2FDykCM7m6%2BNmGtAhQ88yszsHuqb9%2BZeME%2FaKo3LP6%2Bpmu%2BIjVNPbF5WY9yv8QCow%3D%3D'"
   ]
  },
  {
   "cell_type": "code",
   "execution_count": 22,
   "metadata": {},
   "outputs": [
    {
     "name": "stdout",
     "output_type": "stream",
     "text": [
      "[]\n",
      "[]\n",
      "0 0 0\n"
     ]
    }
   ],
   "source": [
    "local = 'nexpot.c43ypw0liaa2.ap-northeast-2.rds.amazonaws.com'  # aws rds 접근\n",
    "con = db.connect(\n",
    "    host=local,\n",
    "    user='admin',\n",
    "    db='Nexpot',\n",
    "    password='qwertyuiop123',\n",
    "    charset='utf8mb4'\n",
    ")\n",
    "cur = con.cursor()\n",
    "\n",
    "#cur.execute(\"select distinct places.placeID, places.pname, youtube.region from places,youtube where youtube.videoID = places.videoID and tour.title is NULL;\")\n",
    "cur.execute(\"select * from places where placeID not in (select tour.placeID from places, tour where places.placeID = tour.placeID);\")\n",
    "#cur.execute(\"select * from tour where placeID = '10821532'\")\n",
    "#cur.execute(\"select places.placeID, places.pname, youtube.region from youtube, places, tour where youtube.videoID = places.videoID and places.placeID = tour.placeID and tour.title is NULL;\")\n",
    "row_places = cur.fetchall()\n",
    "#print(row_places)\n",
    "placeid = []\n",
    "pname = []\n",
    "region = []\n",
    "for i in row_places:\n",
    "    placeid.append(i[2])\n",
    "    pname.append(i[3])\n",
    "    region.append(i[4])\n",
    "print(placeid)\n",
    "print(pname)\n",
    "print(len(placeid),len(pname),len(region))"
   ]
  },
  {
   "cell_type": "code",
   "execution_count": 631,
   "metadata": {},
   "outputs": [],
   "source": [
    "for i in range(len(placeid)):   # places 테이블\n",
    "    sql = \"insert into tour values('\" + placeid[i] + \"', 0, NULL, NULL, NULL, NULL, NULL, NULL, NULL, NULL, NULL, NULL, NULL, NULL)\"\n",
    "    try:\n",
    "        cur.execute(sql)\n",
    "        con.commit()\n",
    "    except:\n",
    "        con.rollback()\n",
    "    \n",
    "con.close()"
   ]
  },
  {
   "cell_type": "code",
   "execution_count": 36,
   "metadata": {},
   "outputs": [
    {
     "name": "stdout",
     "output_type": "stream",
     "text": [
      " 칼리오페 강진시장 (4, 9일) 대릉갈비 오크밸리 3D 라이팅쇼 '소나타오브라이트'\n"
     ]
    }
   ],
   "source": [
    "# 오류처리\n",
    "f = open('추가.txt','r',encoding='utf8')\n",
    "data = f.read().splitlines()\n",
    "        \n",
    "placeID = []\n",
    "placename = []\n",
    "tourname = []\n",
    "for i in data:\n",
    "    if i == '':\n",
    "        continue\n",
    "    else:\n",
    "        #print(i)\n",
    "        place = re.sub(\"\\*\",'',i)\n",
    "        places = place.split(' $ ')[0]\n",
    "        #print(place.split('$')[1])\n",
    "        tourname.append(place.split(' $ ')[1])\n",
    "        placeID.append(places.split('/')[0])\n",
    "        placename.append(places.split('/')[1])\n",
    "        #print(place.split(' $ ')[1],places.split('/')[0],places.split('/')[1])\n",
    "        if place.split(' $ ')[1] == '':\n",
    "            print(i)\n",
    "        #print(places.split('/'))\n",
    "#print(tourname[20],'#', tourname[21],'#', tourname[29],'#', tourname[130])\n",
    "print(tourname[15],tourname[53],tourname[24], tourname[1])"
   ]
  },
  {
   "cell_type": "code",
   "execution_count": 4,
   "metadata": {},
   "outputs": [],
   "source": [
    "def search_keyword(api_key_decode,keyword):\n",
    "    url = f'https://apis.data.go.kr/B551011/KorService/searchKeyword?serviceKey={api_key_decode}&numOfRows=10&pageNo=1&MobileOS=ETC&MobileApp=NEXPOT&_type=json&listYN=Y&arrange=B&keyword={keyword}'\n",
    "    result = requests.get(url, verify=False)\n",
    "    data = json.loads(result.text)\n",
    "    if data['response']['body']['numOfRows'] == 0:\n",
    "        return\n",
    "    keywords = data['response']['body']['items']['item']\n",
    "    for i in keywords:\n",
    "        if i['title'] == keyword:\n",
    "            keyword_data  = i\n",
    "            break\n",
    "        else :\n",
    "            keyword_data = data['response']['body']['items']['item'][0]\n",
    "    contentid = keyword_data['contentid']\n",
    "    contenttypeid = keyword_data['contenttypeid']\n",
    "    title = keyword_data['title']\n",
    "    return [contentid, title, contenttypeid]"
   ]
  },
  {
   "cell_type": "code",
   "execution_count": 5,
   "metadata": {},
   "outputs": [],
   "source": [
    "def detail_common(api_key_decode,contentid,title):\n",
    "    url = f'https://apis.data.go.kr/B551011/KorService/detailCommon?MobileOS=ETC&MobileApp=NEXPOT&serviceKey={api_key_decode}&_type=json&contentId={contentid}&defaultYN=Y&addrinfoYN=Y&overviewYN=Y'\n",
    "    result = requests.get(url, verify=False)\n",
    "    data = json.loads(result.text)\n",
    "    content_data = data['response']['body']['items']['item'][0]\n",
    "    addr = content_data['addr1']\n",
    "    tel = content_data['tel']\n",
    "    overview = re.sub(\"'\", \"\",content_data['overview'])\n",
    "    return [addr, tel, overview]\n"
   ]
  },
  {
   "cell_type": "code",
   "execution_count": 19,
   "metadata": {},
   "outputs": [],
   "source": [
    "def detail_intro(api_key_decode,contentid,contenttypeid):\n",
    "    url = f'https://apis.data.go.kr/B551011/KorService/detailIntro?MobileOS=ETC&MobileApp=NEXPOT&serviceKey={api_key_decode}&_type=json&contentId={contentid}&contentTypeId={contenttypeid}'\n",
    "    result = requests.get(url, verify=False)\n",
    "    data = json.loads(result.text)\n",
    "    intro_data = data['response']['body']['items']['item'][0]\n",
    "    infocenter= None\n",
    "    restdate= None\n",
    "    usetime= None\n",
    "    parking= None\n",
    "    chkbabycarriage= None\n",
    "    chkpet= None\n",
    "    chkcreditcard = None\n",
    "    for data in intro_data.keys():\n",
    "        if data.startswith('infocenter'):\n",
    "            infocenter = intro_data[data]\n",
    "        if data.startswith('restdate'):\n",
    "            restdate = intro_data[data]\n",
    "        if data.startswith('usetime') or data.startswith('opentime'):\n",
    "            usetime = intro_data[data]\n",
    "        if data.startswith('parking'):\n",
    "            parking = intro_data[data]\n",
    "        if data.startswith('chkbabycarriage'):\n",
    "            chkbabycarriage = intro_data[data]\n",
    "        if data.startswith('chkpet'):\n",
    "            chkpet = intro_data[data]\n",
    "        if data.startswith('chkcreditcard'):\n",
    "            chkcreditcard = intro_data[data]\n",
    "    return [infocenter,restdate,usetime,re.sub(\"'\",\"\",parking),chkbabycarriage,chkpet,chkcreditcard]"
   ]
  },
  {
   "cell_type": "code",
   "execution_count": 20,
   "metadata": {},
   "outputs": [],
   "source": [
    "def main():\n",
    "    #servicekey = 'JaSZeDTHJ5hQVERoJVnKpg%2F5ff8fMXkU%2F2aubsJl%2Fl9lxDA5ZnIEz0VuOP0cpiwYRX1bFDS0yWX7XbRd0NFg7w%3D%3D'\n",
    "    api_key_decode = 'JaSZeDTHJ5hQVERoJVnKpg%2F5ff8fMXkU%2F2aubsJl%2Fl9lxDA5ZnIEz0VuOP0cpiwYRX1bFDS0yWX7XbRd0NFg7w%3D%3D'\n",
    "    #api_key_decode = unquote(servicekey)\n",
    "    local = 'nexpot.c43ypw0liaa2.ap-northeast-2.rds.amazonaws.com'  # aws rds 접근\n",
    "    con = db.connect(\n",
    "        host=local,\n",
    "        user='admin',\n",
    "        db='Nexpot',\n",
    "        password='qwertyuiop123',\n",
    "        charset='utf8mb4'\n",
    "    )\n",
    "    cur = con.cursor()\n",
    "    cur.execute(\"select * from places where placeID not in (select tour.placeID from places, tour where places.placeID = tour.placeID);\")\n",
    "    # DB에 없는 장소 갖고오기\n",
    "    row_places = cur.fetchall()\n",
    "    placeid = []\n",
    "    pname = []\n",
    "    region = []\n",
    "    for i in row_places:\n",
    "        placeid.append(i[2])\n",
    "        pname.append(re.sub('&','',i[3]))\n",
    "        region.append(i[4])\n",
    "    \n",
    "    df = pd.DataFrame(columns=range(14))\n",
    "    '''\n",
    "    df = pd.DataFrame(columns=range(14))\n",
    "    f = open('추가.txt','r',encoding='utf8')\n",
    "    # 오류처리\n",
    "    data = f.read().splitlines()\n",
    "    placeID = []\n",
    "    placename = []\n",
    "    tourname = []\n",
    "    for i in data:\n",
    "        if i == '':\n",
    "            continue\n",
    "        else:\n",
    "            place = re.sub(\"\\*\",'',i)\n",
    "            place = re.sub('&','',place)\n",
    "            places = place.split(' $ ')[0]\n",
    "            tourname.append(place.split(' $ ')[1])\n",
    "            placeID.append(places.split('/')[0])\n",
    "            placename.append(places.split('/')[1])\n",
    "    '''\n",
    "    for k in range(len(placeid)):   #len(pname)\n",
    "        print(k)\n",
    "        id = placeid[k]\n",
    "        name = pname[k]\n",
    "        \n",
    "        contit = search_keyword(api_key_decode,name)\n",
    "        if contit == None:\n",
    "            df.loc[len(df)] = [id,0,None,None,None,None,None,None,None,None,None,None,None,None]\n",
    "            continue\n",
    "        addtelove= detail_common(api_key_decode, contit[0],contit[1])\n",
    "        #region1 = region[k][:2]\n",
    "        #if region1[0] not in addtelove[0] and region1[1] not in addtelove[0]:\n",
    "        #    df.loc[len(df)] = [id,0,None,None,None,None,None,None,None,None,None,None,None,None]\n",
    "        #    continue\n",
    "        irupccc = detail_intro(api_key_decode,contit[0],contit[2])\n",
    "        df.loc[len(df)] = [id,1]+contit[:2]+addtelove+irupccc\n",
    "        print([id,1]+contit[:2]+addtelove+irupccc)\n",
    "\n",
    "    df.columns = ['placeID','exist','contentid','title','addr','tel','overview',\n",
    "                  'infocenter','restdate','usetime','parking','chkbabycarriage','chkpet','chkcreditcard']\n",
    "    print(df)\n",
    "    for i in range(len(df)):\n",
    "        \n",
    "        sql = \"insert into tour values('\" + str(df['placeID'][i]) + \"','\" +  str(df['exist'][i]) + \"','\" + \\\n",
    "        str(df['contentid'][i]) + \"','\" + str(df['title'][i]) + \"','\" + str(df['addr'][i]) + \"','\" + \\\n",
    "        str(df['tel'][i]) + \"','\" + str(df['overview'][i]) + \"','\" + str(df['infocenter'][i]) + \"','\" + \\\n",
    "        str(df['restdate'][i]) + \"','\" + str(df['usetime'][i]) + \"','\" + str(df['parking'][i]) + \"','\" + \\\n",
    "        str(df['chkbabycarriage'][i]) + \"','\" + str(df['chkpet'][i]) + \"','\" + str(df['chkcreditcard'][i]) +\"')\"\n",
    "        '''\n",
    "        sql = \"UPDATE tour SET exist = '\" +  str(df['exist'][i]) + \"', contentid = '\" + str(df['contentid'][i]) + \\\n",
    "         \"', title = '\" + str(df['title'][i]) + \"', addr = '\" + str(df['addr'][i]) + \"', tel = '\" + \\\n",
    "        str(df['tel'][i]) + \"', overview = '\" + str(df['overview'][i]) + \"', infocenter = '\" + str(df['infocenter'][i]) + \\\n",
    "        \"',restdate = '\" + str(df['restdate'][i]) + \"', usetime = '\" + str(df['usetime'][i]) + \"', parking = '\" + str(df['parking'][i]) \\\n",
    "        + \"', chkbabycarriage = '\" + str(df['chkbabycarriage'][i]) + \"', chkpet = '\" + str(df['chkpet'][i]) + \"', chkcreditcard = '\" + \\\n",
    "        str(df['chkcreditcard'][i]) +\"' where placeID = '\" + str(df['placeID'][i]) + \"';\"\n",
    "        '''\n",
    "        try:\n",
    "            cur.execute(sql)\n",
    "            con.commit()\n",
    "            print('good')\n",
    "        except:\n",
    "            con.rollback()\n",
    "    \n",
    "    con.close()"
   ]
  },
  {
   "cell_type": "code",
   "execution_count": 21,
   "metadata": {
    "scrolled": true
   },
   "outputs": [
    {
     "name": "stdout",
     "output_type": "stream",
     "text": [
      "0\n"
     ]
    },
    {
     "name": "stderr",
     "output_type": "stream",
     "text": [
      "C:\\Users\\USER\\anaconda3\\lib\\site-packages\\urllib3\\connectionpool.py:981: InsecureRequestWarning: Unverified HTTPS request is being made to host 'apis.data.go.kr'. Adding certificate verification is strongly advised. See: https://urllib3.readthedocs.io/en/latest/advanced-usage.html#ssl-warnings\n",
      "  warnings.warn(\n",
      "C:\\Users\\USER\\anaconda3\\lib\\site-packages\\urllib3\\connectionpool.py:981: InsecureRequestWarning: Unverified HTTPS request is being made to host 'apis.data.go.kr'. Adding certificate verification is strongly advised. See: https://urllib3.readthedocs.io/en/latest/advanced-usage.html#ssl-warnings\n",
      "  warnings.warn(\n",
      "C:\\Users\\USER\\anaconda3\\lib\\site-packages\\urllib3\\connectionpool.py:981: InsecureRequestWarning: Unverified HTTPS request is being made to host 'apis.data.go.kr'. Adding certificate verification is strongly advised. See: https://urllib3.readthedocs.io/en/latest/advanced-usage.html#ssl-warnings\n",
      "  warnings.warn(\n"
     ]
    },
    {
     "name": "stdout",
     "output_type": "stream",
     "text": [
      "['17027131', 1, '2751857', '의림지솔밭공원', '충청북도 제천시 의림지로 33', '', '의림지솔밭공원은 제천 제1경인 의림지에서 용두산 쪽으로 도로를 따라 올라가 제2의림지인 비룡담저수지 둑 아래에 소나무 숲이 우거진 공원이다. 이리저리 휘며 자란 소나무들의 독특한 아름다움이 빼어난 공원으로, 숲속에 인공 물길을 만들어 물소리와 새소리를 정겹게 감상하면서 휴식할 수 있는 공간이다. 1980년대 제천시 승격 이후, 제천 의용소방대에 의해 아카시아와 돌밭의 척박한 환경에서 자라난 소나무를 의림지와 연계해서 제천의 명물로 탄생시킨 공원이다. 잔디마당을 비롯한 솔숲에 물길을 만들어 솔숲 길을 산책하기 좋아지도록 하여 시민들의 휴식처 및 각 학교(어린이집 등)들의 소풍 장소 등으로 활용되고 있다. 2020년 솔숲 내 자연형 인공수로를 만들어 여름철 물놀이를 즐길 수 있도록 하였다.', '043-651-7101', '', '연중 상시 개방', '가능 (소형차 약 50~70대 정도, 충혼탑으로 가기 전 공원부지 옆 도로에 일렬 주차 가능, 꼬네 카페 앞 주차선 표시된 구간 등)', '없음', '가능', '없음']\n",
      "    placeID exist contentid    title              addr tel  \\\n",
      "0  17027131     1   2751857  의림지솔밭공원  충청북도 제천시 의림지로 33       \n",
      "\n",
      "                                            overview    infocenter restdate  \\\n",
      "0  의림지솔밭공원은 제천 제1경인 의림지에서 용두산 쪽으로 도로를 따라 올라가 제2의림...  043-651-7101            \n",
      "\n",
      "    usetime                                            parking  \\\n",
      "0  연중 상시 개방  가능 (소형차 약 50~70대 정도, 충혼탑으로 가기 전 공원부지 옆 도로에 일렬 ...   \n",
      "\n",
      "  chkbabycarriage chkpet chkcreditcard  \n",
      "0              없음     가능            없음  \n",
      "good\n"
     ]
    }
   ],
   "source": [
    "main()"
   ]
  }
 ],
 "metadata": {
  "kernelspec": {
   "display_name": "Python 3",
   "language": "python",
   "name": "python3"
  },
  "language_info": {
   "codemirror_mode": {
    "name": "ipython",
    "version": 3
   },
   "file_extension": ".py",
   "mimetype": "text/x-python",
   "name": "python",
   "nbconvert_exporter": "python",
   "pygments_lexer": "ipython3",
   "version": "3.8.5"
  }
 },
 "nbformat": 4,
 "nbformat_minor": 4
}
